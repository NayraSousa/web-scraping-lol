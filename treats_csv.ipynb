{
  "nbformat": 4,
  "nbformat_minor": 0,
  "metadata": {
    "colab": {
      "provenance": []
    },
    "kernelspec": {
      "name": "python3",
      "display_name": "Python 3"
    },
    "language_info": {
      "name": "python"
    }
  },
  "cells": [
    {
      "cell_type": "code",
      "execution_count": 9,
      "metadata": {
        "id": "8gU9Mxn6BTlZ"
      },
      "outputs": [],
      "source": [
        "import pandas as pd\n",
        "import re"
      ]
    },
    {
      "cell_type": "code",
      "source": [
        "df = pd.read_csv('voicelines.csv')"
      ],
      "metadata": {
        "id": "YgMRJ8z0B0a1"
      },
      "execution_count": 90,
      "outputs": []
    },
    {
      "cell_type": "code",
      "source": [
        "def remove_html_tags(text):\n",
        "  if pd.isna(text):\n",
        "    return text\n",
        "  return re.sub(r'<[^>]+>', '', text)\n",
        "df['text'] = df['text'].apply(remove_html_tags)"
      ],
      "metadata": {
        "id": "ecKfD_n1D8zD"
      },
      "execution_count": 91,
      "outputs": []
    },
    {
      "cell_type": "code",
      "source": [
        "df = df[df['text'] != \"Transcrição necessária.\"]"
      ],
      "metadata": {
        "id": "32Q9kLAFCSOd"
      },
      "execution_count": 92,
      "outputs": []
    },
    {
      "cell_type": "code",
      "source": [
        "df = df[(df['text'] != \"Efeito Sonoro\") & (df['text'] != \"Efeito Sonoro.\")]"
      ],
      "metadata": {
        "id": "-twK8yXdFxVq"
      },
      "execution_count": 93,
      "outputs": []
    },
    {
      "cell_type": "code",
      "source": [
        "df['text'] = df['text'].str.replace(r'Link▶️\\s*', '', regex=True)"
      ],
      "metadata": {
        "id": "8qm26iEKGOvR"
      },
      "execution_count": 94,
      "outputs": []
    },
    {
      "cell_type": "code",
      "source": [
        "def contains_alphabet(text):\n",
        "  if pd.isna(text):\n",
        "    return False\n",
        "  return bool(re.search(r'[A-Za-z]', text))\n",
        "df = df[df['text'].apply(contains_alphabet)]"
      ],
      "metadata": {
        "id": "l3Z98GnaJi3Z"
      },
      "execution_count": 95,
      "outputs": []
    },
    {
      "cell_type": "code",
      "source": [
        "df = df.drop_duplicates()"
      ],
      "metadata": {
        "id": "-R8qHaFvMUJe"
      },
      "execution_count": 96,
      "outputs": []
    },
    {
      "cell_type": "code",
      "source": [
        "pd.DataFrame(df).to_csv('voicelines.csv', index=False)"
      ],
      "metadata": {
        "id": "dCgTyibHJAjc"
      },
      "execution_count": 98,
      "outputs": []
    }
  ]
}