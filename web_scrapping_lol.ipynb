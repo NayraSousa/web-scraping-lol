{
  "cells": [
    {
      "cell_type": "code",
      "execution_count": null,
      "metadata": {
        "id": "MlwUxNTSs9Ox"
      },
      "outputs": [],
      "source": [
        "import requests as r\n",
        "from bs4 import BeautifulSoup\n",
        "import pandas as pd\n",
        "import re"
      ]
    },
    {
      "cell_type": "code",
      "execution_count": null,
      "metadata": {
        "id": "Av5EnBVBtHUl"
      },
      "outputs": [],
      "source": [
        "version = r.get('https://ddragon.leagueoflegends.com/api/versions.json').json()[0]\n",
        "champions = r.get('http://ddragon.leagueoflegends.com/cdn/15.4.1/data/en_US/champion.json').json()['data']\n",
        "name_of_champions = [champions[champion]['name'] for champion in champions]"
      ]
    },
    {
      "cell_type": "code",
      "execution_count": null,
      "metadata": {
        "id": "sa1sZy8Wvl3k"
      },
      "outputs": [],
      "source": [
        "for champion in name_of_champions:\n",
        "  html = r.get(f\"https://leagueoflegends.fandom.com/pt-br/wiki/{champion}/LoL/Áudio\")\n",
        "  if html.status_code != 200:\n",
        "    name_of_champions.remove(champion)"
      ]
    },
    {
      "cell_type": "code",
      "execution_count": null,
      "metadata": {
        "id": "Xbn7zbZAy5WJ"
      },
      "outputs": [],
      "source": [
        "csv = []\n",
        "\n",
        "for champion in name_of_champions:\n",
        "\n",
        "  html = r.get(f\"https://leagueoflegends.fandom.com/pt-br/wiki/{champion}/LoL/%C3%81udio\")\n",
        "  soup = BeautifulSoup(html.text, 'html.parser')\n",
        "\n",
        "  unsorted_lines = soup.find('div', class_=\"mw-parser-output\")\n",
        "\n",
        "  if unsorted_lines is None:\n",
        "    continue\n",
        "\n",
        "  unsorted_lines = unsorted_lines.find_all('ul')\n",
        "\n",
        "  for ul in unsorted_lines:\n",
        "    list_elements = ul.find_all('li')\n",
        "\n",
        "    for element in list_elements:\n",
        "      list_audio = element.find_all('audio')\n",
        "      list_text = element.find_all('i')\n",
        "\n",
        "      for audio in list_audio:\n",
        "        link = audio.find('source')['src']\n",
        "\n",
        "        for text in list_text:\n",
        "          csv.append({'champion': champion, 'text': text, 'audio_link': link})"
      ]
    },
    {
      "cell_type": "code",
      "source": [
        "pd.DataFrame(csv).to_csv('voicelines.csv', index=False)"
      ],
      "metadata": {
        "id": "dC9CahspPI9U"
      },
      "execution_count": null,
      "outputs": []
    }
  ],
  "metadata": {
    "colab": {
      "provenance": []
    },
    "kernelspec": {
      "display_name": "Python 3",
      "name": "python3"
    },
    "language_info": {
      "name": "python"
    }
  },
  "nbformat": 4,
  "nbformat_minor": 0
}